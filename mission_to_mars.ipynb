{
 "cells": [
  {
   "cell_type": "code",
   "execution_count": 43,
   "metadata": {},
   "outputs": [],
   "source": [
    "from splinter import Browser\n",
    "from bs4 import BeautifulSoup\n",
    "from splinter import Browser"
   ]
  },
  {
   "cell_type": "code",
   "execution_count": 44,
   "metadata": {},
   "outputs": [],
   "source": [
    "## Latest News "
   ]
  },
  {
   "cell_type": "code",
   "execution_count": 45,
   "metadata": {},
   "outputs": [],
   "source": [
    "executable_path = {'executable_path': \"chromedriver.exe\"}\n",
    "browser=Browser(\"chrome\", **executable_path, headless=False)"
   ]
  },
  {
   "cell_type": "code",
   "execution_count": 46,
   "metadata": {},
   "outputs": [],
   "source": [
    "url=\"https://mars.nasa.gov/news/\"\n",
    "browser.visit(url)"
   ]
  },
  {
   "cell_type": "code",
   "execution_count": 47,
   "metadata": {},
   "outputs": [],
   "source": [
    "html=browser.html\n",
    "soup=BeautifulSoup(html, \"html.parser\")"
   ]
  },
  {
   "cell_type": "code",
   "execution_count": 48,
   "metadata": {},
   "outputs": [],
   "source": [
    "content = soup.find(\"ul\", class_=\"item_list\")\n",
    "articles = content.find_all(\"li\")"
   ]
  },
  {
   "cell_type": "code",
   "execution_count": 49,
   "metadata": {},
   "outputs": [
    {
     "name": "stdout",
     "output_type": "stream",
     "text": "------------\nNine Finalists Chosen in NASA's Mars 2020 Rover Naming Contest\nNine finalists have been chosen in the essay contest for K-12 students across U.S. to name NASA's next Mars rover. Now you can help by voting for your favorite. \n------------\nNASA's Mars 2020 Rover Closer to Getting Its Name\n155 students from across the U.S. have been chosen as semifinalists in NASA's essay contest to name the Mars 2020 rover, and see it launch from Cape Canaveral this July.\n------------\nMedia Get a Close-Up of NASA's Mars 2020 Rover\nThe clean room at NASA's Jet Propulsion Laboratory was open to the media to see NASA's next Mars explorer before it leaves for Florida in preparation for a summertime launch.\n------------\nSpace History Is Made in This NASA Robot Factory\nFrom rockets to rovers, JPL's Spacecraft Assembly Facility has been at the center of robotic spaceflight. Here's a closer look at what makes it so special.\n------------\nNASA's Mars 2020 Rover Completes Its First Drive\nIn a 10-plus-hour marathon, the rover steered, turned and drove in 3-foot (1-meter) increments over small ramps.\n------------\nNASA's Treasure Map for Water Ice on Mars\nA new study identifies frozen water just below the Martian surface, where astronauts could easily dig it up.\n------------\nTwo Rovers to Roll on Mars Again: Curiosity and Mars 2020\nThey look like twins. But under the hood, the rover currently exploring the Red Planet and the one launching there this summer have distinct science tools and roles to play.\n------------\nNASA's Briefcase-Size MarCO Satellite Picks Up Honors\nThe twin spacecraft, the first of their kind to fly into deep space, earn a Laureate from Aviation Week & Space Technology.\n------------\nGlobal Storms on Mars Launch Dust Towers Into the Sky\nA Mars Dust Tower Stands Out Dust storms are common on Mars. But every decade or so, something unpredictable happens: a series of runaway storms break out, covering the entire planet in a dusty haze.\n------------\nNASA Updates Mars 2020 Mission Environmental Review\nNASA and the Department of Energy have completed a more detailed risk analysis for the Mars 2020 rover launch from Florida.\n------------\nTwo of a Space Kind: Apollo 12 and Mars 2020\nApollo 12 and the upcoming Mars 2020 mission may be separated by half a century, but they share several goals unique in the annals of space exploration.\n------------\nMars Scientists Investigate Ancient Life in Australia\nTeams with NASA's Mars 2020 and ESA's ExoMars practiced hunting for fossilized microbial life in the Australian Outback in preparation for their Red Planet missions. \n------------\nNASA's Mars 2020 Will Hunt for Microscopic Fossils\nA new paper identifies a ring of minerals at the rover's landing site that are ideal for fossilizing microbial life.\n------------\nWith Mars Methane Mystery Unsolved, Curiosity Serves Scientists a New One: Oxygen\nFor the first time in the history of space exploration, scientists have measured the seasonal changes in the gases that fill the air directly above the surface of Gale Crater on Mars. \n------------\nNASA's Mars 2020 Heads Into the Test Chamber\nIn this time-lapse video taken at JPL, engineers move the Mars 2020 rover into a large vacuum chamber for testing in Mars-like environmental conditions.\n------------\nScreening Soon: 'The Pathfinders' Trains Lens on Mars\nWith the Mars 2020 mission ramping up, the documentary — the first of four about past JPL missions to the Red Planet to be shown at Caltech — tells a gripping backstory.\n------------\nInSight's 'Mole' Team Peers into the Pit\nEfforts to save the heat probe continue.\n------------\nCommon Questions about InSight's 'Mole'\nThere's a new plan to get InSight's \"mole\" moving again. The following Q&As with two members of the team answer some of the most common questions about the burrowing device, part of a science instrument called the Heat Flow and Physical Properties Package (HP3).\n------------\nMars 2020 Stands on Its Own Six Wheels\nIn time-lapse video, taken at JPL, captures the first time NASA's Mars 2020 rover carries its full weight on its legs and wheels.\n------------\nNew Selfie Shows Curiosity, the Mars Chemist\nThe NASA rover performed a special chemistry experiment at the location captured in its newest self-portrait.\n------------\nNaming a NASA Mars Rover Can Change Your Life\nWant to name the robotic scientist NASA is sending to Mars in 2020? The student who named Curiosity — the rover currently exploring Mars — will tell you this is an opportunity worth taking.\n------------\nMars 2020 Unwrapped and Ready for More Testing\nIn time-lapse video, bunny-suited engineers remove the inner layer of protective foil on NASA's Mars 2020 rover after it was relocated for testing.\n------------\nHiRISE Views NASA's InSight and Curiosity on Mars\nNew images taken from space offer the clearest orbital glimpse yet of InSight as well as a view of Curiosity rolling along.\n------------\nNASA's Curiosity Rover Finds an Ancient Oasis on Mars\nNew evidence suggests salty, shallow ponds once dotted a Martian crater — a sign of the planet's drying climate.\n------------\nNASA's Mars 2020 Rover Tests Descent-Stage Separation\nA crane lifts the rocket-powered descent stage away from NASA's Mars 2020 rover after technicians tested the pyrotechnic charges that separate the two spacecraft.\n------------\nNASA's Push to Save the Mars InSight Lander's Heat Probe\nThe scoop on the end of the spacecraft's robotic arm will be used to 'pin' the mole against the wall of its hole.\n------------\nNASA's InSight 'Hears' Peculiar Sounds on Mars\nListen to the marsquakes and other, less-expected sounds that the Mars lander has been detecting.\n------------\nNASA Mars Mission Connects With Bosnian and Herzegovinian Town\nA letter from NASA was presented to the mayor of Jezero, Bosnia-Herzegovina, honoring the connection between the town and Jezero Crater, the Mars 2020 rover landing site.\n------------\nDeadline Closing for Names to Fly on NASA's Next Mars Rover\nYou have until Sept. 30 to send your names to Mars aboard the Mars 2020 rover. \n------------\nNASA Wins Two Emmy Awards for Interactive Mission Coverage\nNASA-JPL's coverage of the Mars InSight landing earns one of the two wins, making this the NASA center's second Emmy.\n------------\nNASA's Mars 2020 Comes Full Circle\nAiming to pinpoint the Martian vehicle's center of gravity, engineers took NASA's 2,300-pound Mars 2020 rover for a spin in the clean room at JPL. \n------------\nNASA Invites Students to Name Mars 2020 Rover\nThrough Nov. 1, K-12 students in the U.S. are encouraged to enter an essay contest to name NASA's next Mars rover.\n------------\nNASA's Mars Helicopter Attached to Mars 2020 Rover \nThe helicopter will be first aircraft to perform flight tests on another planet.\n------------\nWhat's Mars Solar Conjunction, and Why Does It Matter?\nNASA spacecraft at Mars are going to be on their own for a few weeks when the Sun comes between Mars and Earth, interrupting communications.\n------------\nScientists Explore Outback as Testbed for Mars \nAustralia provides a great place for NASA's Mars 2020 and the ESA-Roscosmos ExoMars scientists to hone techniques in preparation for searching for signs ancient life on Mars.\n------------\nNASA-JPL Names 'Rolling Stones Rock' on Mars\nNASA's Mars InSight mission honored one of the biggest bands of all time at Pasadena concert.\n------------\nRobotic Toolkit Added to NASA's Mars 2020 Rover\nThe bit carousel, which lies at the heart of the rover's Sample Caching System, is now aboard NASA's newest rover. \n------------\nSpace Samples Link NASA's Apollo 11 and Mars 2020\nWhile separated by half a century, NASA's Apollo 11 and Mars 2020 missions share the same historic goal: returning samples to Earth.\n------------\nSmall Satellite Mission of the Year\nThe first interplanetary CubeSats were recognized by the engineering community with the 2019 Small Satellite Mission of the Year award.\n------------\nNASA 'Optometrists' Verify Mars 2020 Rover's 20/20 Vision\nMars 2020 rover underwent an eye exam after several cameras were installed on the rover.\n"
    }
   ],
   "source": [
    "title_list=[]\n",
    "text_list=[]\n",
    "for article in articles:\n",
    "    news_title=article.find(\"div\", class_=\"content_title\").text\n",
    "    title_list.append(news_title)\n",
    "    news_p=article.find(\"div\", class_=\"article_teaser_body\").text\n",
    "    text_list.append(news_p)\n",
    "    print(\"------------\")\n",
    "    print(news_title)\n",
    "    print(news_p)"
   ]
  },
  {
   "cell_type": "code",
   "execution_count": 50,
   "metadata": {},
   "outputs": [],
   "source": [
    "latest_news={\"news_title\": title_list[0], \"news_p\":text_list[0]}"
   ]
  },
  {
   "cell_type": "code",
   "execution_count": 51,
   "metadata": {},
   "outputs": [
    {
     "data": {
      "text/plain": "{'news_title': \"Nine Finalists Chosen in NASA's Mars 2020 Rover Naming Contest\",\n 'news_p': \"Nine finalists have been chosen in the essay contest for K-12 students across U.S. to name NASA's next Mars rover. Now you can help by voting for your favorite. \"}"
     },
     "execution_count": 51,
     "metadata": {},
     "output_type": "execute_result"
    }
   ],
   "source": [
    "latest_news"
   ]
  },
  {
   "cell_type": "code",
   "execution_count": 52,
   "metadata": {},
   "outputs": [],
   "source": [
    "browser.quit()"
   ]
  },
  {
   "cell_type": "code",
   "execution_count": 0,
   "metadata": {},
   "outputs": [],
   "source": [
    "## JPL Mars Space Images - Featured Image"
   ]
  },
  {
   "cell_type": "code",
   "execution_count": 53,
   "metadata": {},
   "outputs": [],
   "source": [
    "executable_path = {'executable_path': \"chromedriver.exe\"}\n",
    "browser=Browser(\"chrome\", **executable_path, headless=False)\n",
    "url=\"https://www.jpl.nasa.gov/spaceimages/?search=&category=Mars\"\n",
    "browser.visit(url)\n",
    "html=browser.html\n",
    "soup=BeautifulSoup(html, \"html.parser\")"
   ]
  },
  {
   "cell_type": "code",
   "execution_count": 54,
   "metadata": {},
   "outputs": [],
   "source": [
    "pictures=soup.find('ul', class_=\"articles\").find_all(\"li\")"
   ]
  },
  {
   "cell_type": "code",
   "execution_count": 55,
   "metadata": {},
   "outputs": [],
   "source": [
    "complete_url=[]\n",
    "for picture in pictures:\n",
    "    url=picture.find('div', class_='img').find('img')['src']\n",
    "    complete_url.append(\"https://www.jpl.nasa.gov\"+url)"
   ]
  },
  {
   "cell_type": "code",
   "execution_count": 56,
   "metadata": {},
   "outputs": [
    {
     "name": "stdout",
     "output_type": "stream",
     "text": "the latest image url : https://www.jpl.nasa.gov/spaceimages/images/wallpaper/PIA23634-640x350.jpg\n"
    }
   ],
   "source": [
    "featured_image_url=complete_url[0]\n",
    "print(f\"the latest image url : {featured_image_url}\")"
   ]
  },
  {
   "cell_type": "code",
   "execution_count": 57,
   "metadata": {},
   "outputs": [],
   "source": [
    "browser.quit()"
   ]
  },
  {
   "cell_type": "code",
   "execution_count": 0,
   "metadata": {},
   "outputs": [],
   "source": [
    "## Mars Weather"
   ]
  },
  {
   "cell_type": "code",
   "execution_count": 58,
   "metadata": {},
   "outputs": [],
   "source": [
    "executable_path = {'executable_path': \"chromedriver.exe\"}\n",
    "browser=Browser(\"chrome\", **executable_path, headless=False)\n",
    "url=\"https://twitter.com/marswxreport?lang=en\"\n",
    "browser.visit(url)\n",
    "html=browser.html\n",
    "soup=BeautifulSoup(html, \"html.parser\")"
   ]
  },
  {
   "cell_type": "code",
   "execution_count": 59,
   "metadata": {},
   "outputs": [],
   "source": [
    "tweets = soup.find('div', class_=\"stream\").find_all(\"li\", class_=\"js-stream-item stream-item stream-item\")"
   ]
  },
  {
   "cell_type": "code",
   "execution_count": 60,
   "metadata": {},
   "outputs": [
    {
     "name": "stdout",
     "output_type": "stream",
     "text": "-----\nInSight sol 409 (2020-01-20) low -98.6ºC (-145.6ºF) high -15.4ºC (4.3ºF)\nwinds from the S at 5.3 m/s (11.9 mph) gusting to 21.0 m/s (46.9 mph)\npressure at 6.30 hPapic.twitter.com/uVxUQSsK2N\n-----\nInSight sol 408 (2020-01-19) low -97.1ºC (-142.7ºF) high -16.0ºC (3.1ºF)\nwinds from the SSW at 5.2 m/s (11.6 mph) gusting to 20.7 m/s (46.3 mph)\npressure at 6.40 hPapic.twitter.com/tIqoEyK2Uk\n-----\nInSight sol 407 (2020-01-18) low -99.5ºC (-147.1ºF) high -16.5ºC (2.4ºF)\nwinds from the SSW at 4.8 m/s (10.6 mph) gusting to 22.2 m/s (49.8 mph)\npressure at 6.40 hPapic.twitter.com/N6VqMznAhP\n-----\nInSight sol 406 (2020-01-17) low -100.0ºC (-148.0ºF) high -17.1ºC (1.2ºF)\nwinds from the SSE at 5.3 m/s (11.8 mph) gusting to 20.7 m/s (46.4 mph)\npressure at 6.40 hPapic.twitter.com/Ws6W7Cf73m\n-----\nIf Jacobie wins the contest, he and his family will get to go watch the Mars rover launch from Cape Canaveral this summer! \n\nH/T @rtphokiehttps://10.wsls.com/38iijbf \n-----\nInSight sol 405 (2020-01-16) low -102.5ºC (-152.5ºF) high -16.8ºC (1.7ºF)\nwinds from the SSE at 6.0 m/s (13.4 mph) gusting to 23.1 m/s (51.8 mph)\npressure at 6.40 hPapic.twitter.com/MmcW4ASm7v\n-----\nDYK Mars’ moons are visible in daylight as well?https://twitter.com/fcain/status/1217977346050924550 …\n-----\nInSight sol 404 (2020-01-15) low -99.5ºC (-147.1ºF) high -16.8ºC (1.7ºF)\nwinds from the SSW at 5.2 m/s (11.7 mph) gusting to 19.8 m/s (44.2 mph)\npressure at 6.40 hPapic.twitter.com/fX6vAdxuSZ\n-----\nInSight sol 403 (2020-01-14) low -101.3ºC (-150.3ºF) high -16.9ºC (1.5ºF)\nwinds from the SSE at 5.8 m/s (13.0 mph) gusting to 21.0 m/s (46.9 mph)\npressure at 6.40 hPapic.twitter.com/advA7H822G\n-----\nInSight sol 402 (2020-01-13) low -100.0ºC (-148.1ºF) high -16.8ºC (1.7ºF)\nwinds from the SSE at 5.4 m/s (12.0 mph) gusting to 21.1 m/s (47.3 mph)\npressure at 6.40 hPapic.twitter.com/hcm6q7P8HW\n-----\nInSight sol 401 (2020-01-12) low -100.2ºC (-148.4ºF) high -17.0ºC (1.5ºF)\npressure at 6.40 hPa\n-----\nInSight sol 400 (2020-01-11) low -99.1ºC (-146.5ºF) high -15.7ºC (3.8ºF)\nwinds from the SSE at 5.5 m/s (12.3 mph) gusting to 22.3 m/s (49.9 mph)\npressure at 6.40 hPapic.twitter.com/xYQHT9cdn5\n-----\nHigh altitude notilucent clouds above Mars on sol 2410 via @MarsCuriosity  NavCam Credit NASA/JPL/Justin Cowartpic.twitter.com/4P1cueZR92\n-----\nInSight sol 399 (2020-01-10) low -97.8ºC (-144.1ºF) high -17.5ºC (0.4ºF)\nwinds from the SSE at 6.0 m/s (13.4 mph) gusting to 20.3 m/s (45.4 mph)\npressure at 6.40 hPapic.twitter.com/43TgcBefTY\n-----\nInSight sol 398 (2020-01-09) low -100.6ºC (-149.1ºF) high -16.8ºC (1.8ºF)\nwinds from the SSE at 6.1 m/s (13.6 mph) gusting to 19.5 m/s (43.7 mph)\npressure at 6.40 hPapic.twitter.com/kmdvrZ2M8m\n-----\nInSight sol 397 (2020-01-08) low -100.1ºC (-148.1ºF) high -15.7ºC (3.7ºF)\nwinds from the SSE at 6.7 m/s (15.0 mph) gusting to 21.2 m/s (47.5 mph)\npressure at 6.40 hPapic.twitter.com/e4wIfniCoX\n-----\nInSight sol 396 (2020-01-07) low -100.1ºC (-148.2ºF) high -18.2ºC (-0.7ºF)\nwinds from the SW at 5.4 m/s (12.0 mph) gusting to 21.2 m/s (47.5 mph)\npressure at 6.40 hPa\n-----\nInSight sol 395 (2020-01-06) low -99.7ºC (-147.4ºF) high -17.8ºC (-0.1ºF)\nwinds from the SE at 6.2 m/s (13.8 mph) gusting to 20.3 m/s (45.3 mph)\npressure at 6.40 hPapic.twitter.com/GFhr7zuVp2\n-----\nInSight sol 394 (2020-01-05) low -99.0ºC (-146.1ºF) high -17.9ºC (-0.3ºF)\nwinds from the SE at 6.6 m/s (14.7 mph) gusting to 23.3 m/s (52.0 mph)\npressure at 6.40 hPapic.twitter.com/R0dFa028si\n-----\nInSight sol 393 (2020-01-04) low -97.7ºC (-143.8ºF) high -17.6ºC (0.4ºF)\nwinds from the SSW at 5.5 m/s (12.2 mph) gusting to 21.6 m/s (48.4 mph)\npressure at 6.40 hPapic.twitter.com/ZiUF3fZhoN\n"
    }
   ],
   "source": [
    "record=[]\n",
    "for tweet in tweets:\n",
    "    content = tweet.find('div', class_=\"js-tweet-text-container\").find('p').text\n",
    "    print('-----')\n",
    "    print(content)\n",
    "    if content[0:7]=='InSight':\n",
    "        record.append(content)"
   ]
  },
  {
   "cell_type": "code",
   "execution_count": 61,
   "metadata": {},
   "outputs": [
    {
     "name": "stdout",
     "output_type": "stream",
     "text": "The latest weather report : \nInSight sol 409 (2020-01-20) low -98.6ºC (-145.6ºF) high -15.4ºC (4.3ºF)\nwinds from the S at 5.3 m/s (11.9 mph) gusting to 21.0 m/s (46.9 mph)\npressure at 6.30 hPapic.twitter.com/uVxUQSsK2N\n"
    }
   ],
   "source": [
    "Latest_weather=record[0]\n",
    "print(f\"The latest weather report : \\n{Latest_weather}\")"
   ]
  },
  {
   "cell_type": "code",
   "execution_count": 62,
   "metadata": {},
   "outputs": [],
   "source": [
    "browser.quit()"
   ]
  },
  {
   "cell_type": "code",
   "execution_count": 63,
   "metadata": {},
   "outputs": [],
   "source": [
    "## Mars Facts\n",
    "import pandas as pd        "
   ]
  },
  {
   "cell_type": "code",
   "execution_count": 64,
   "metadata": {},
   "outputs": [],
   "source": [
    "url=\"https://space-facts.com/mars/\"\n",
    "table = pd.read_html(url)[0]"
   ]
  },
  {
   "cell_type": "code",
   "execution_count": 65,
   "metadata": {},
   "outputs": [],
   "source": [
    "fact_html=table.to_html(header=False, index=False)   "
   ]
  },
  {
   "cell_type": "code",
   "execution_count": 66,
   "metadata": {},
   "outputs": [],
   "source": [
    "fact_html=fact_html.replace(\"\\n\",\"\")"
   ]
  },
  {
   "cell_type": "code",
   "execution_count": 67,
   "metadata": {},
   "outputs": [],
   "source": [
    "table.to_html('table.html')"
   ]
  },
  {
   "cell_type": "code",
   "execution_count": 0,
   "metadata": {},
   "outputs": [],
   "source": [
    "## Mars Hemispheres"
   ]
  },
  {
   "cell_type": "code",
   "execution_count": 68,
   "metadata": {},
   "outputs": [],
   "source": [
    "executable_path = {'executable_path': \"chromedriver.exe\"}\n",
    "browser=Browser(\"chrome\", **executable_path, headless=False)\n",
    "url=\"https://astrogeology.usgs.gov/search/results?q=hemisphere+enhanced&k1=target&v1=Mars\"\n",
    "browser.visit(url)\n",
    "html=browser.html\n",
    "soup=BeautifulSoup(html, \"html.parser\")"
   ]
  },
  {
   "cell_type": "code",
   "execution_count": 69,
   "metadata": {},
   "outputs": [],
   "source": [
    "items=soup.find_all('div', class_=\"item\")"
   ]
  },
  {
   "cell_type": "code",
   "execution_count": 70,
   "metadata": {},
   "outputs": [
    {
     "name": "stdout",
     "output_type": "stream",
     "text": "------------------------\nCerberus Hemisphere Enhanced\nhttps://astrogeology.usgs.gov//cache/images/dfaf3849e74bf973b59eb50dab52b583_cerberus_enhanced.tif_thumb.png\n------------------------\nSchiaparelli Hemisphere Enhanced\nhttps://astrogeology.usgs.gov//cache/images/7677c0a006b83871b5a2f66985ab5857_schiaparelli_enhanced.tif_thumb.png\n------------------------\nSyrtis Major Hemisphere Enhanced\nhttps://astrogeology.usgs.gov//cache/images/aae41197e40d6d4f3ea557f8cfe51d15_syrtis_major_enhanced.tif_thumb.png\n------------------------\nValles Marineris Hemisphere Enhanced\nhttps://astrogeology.usgs.gov//cache/images/04085d99ec3713883a9a57f42be9c725_valles_marineris_enhanced.tif_thumb.png\n"
    }
   ],
   "source": [
    "hemisphere_image_urls=[]\n",
    "\n",
    "for item in items:\n",
    "    link=item.find(\"a\", class_=\"itemLink product-item\").find('img')['src']\n",
    "    img_url= \"https://astrogeology.usgs.gov/\" + link\n",
    "    img_title=item.find(\"div\", class_=\"description\").find(\"a\", class_=\"itemLink product-item\").find(\"h3\").text\n",
    "    print(\"------------------------\")\n",
    "    print(img_title)\n",
    "    print(img_url)\n",
    "    hemisphere_image_urls.append({\n",
    "        \"title\" : img_title,\n",
    "        \"img_url\": img_url\n",
    "    })"
   ]
  },
  {
   "cell_type": "code",
   "execution_count": 71,
   "metadata": {},
   "outputs": [
    {
     "data": {
      "text/plain": "[{'title': 'Cerberus Hemisphere Enhanced',\n  'img_url': 'https://astrogeology.usgs.gov//cache/images/dfaf3849e74bf973b59eb50dab52b583_cerberus_enhanced.tif_thumb.png'},\n {'title': 'Schiaparelli Hemisphere Enhanced',\n  'img_url': 'https://astrogeology.usgs.gov//cache/images/7677c0a006b83871b5a2f66985ab5857_schiaparelli_enhanced.tif_thumb.png'},\n {'title': 'Syrtis Major Hemisphere Enhanced',\n  'img_url': 'https://astrogeology.usgs.gov//cache/images/aae41197e40d6d4f3ea557f8cfe51d15_syrtis_major_enhanced.tif_thumb.png'},\n {'title': 'Valles Marineris Hemisphere Enhanced',\n  'img_url': 'https://astrogeology.usgs.gov//cache/images/04085d99ec3713883a9a57f42be9c725_valles_marineris_enhanced.tif_thumb.png'}]"
     },
     "execution_count": 71,
     "metadata": {},
     "output_type": "execute_result"
    }
   ],
   "source": [
    "hemisphere_image_urls"
   ]
  },
  {
   "cell_type": "code",
   "execution_count": 0,
   "metadata": {},
   "outputs": [],
   "source": [
    "browser.quit()"
   ]
  }
 ],
 "metadata": {
  "kernelspec": {
   "display_name": "Python 3",
   "language": "python",
   "name": "python3"
  },
  "language_info": {
   "codemirror_mode": {
    "name": "ipython",
    "version": 3
   },
   "file_extension": ".py",
   "mimetype": "text/x-python",
   "name": "python",
   "nbconvert_exporter": "python",
   "pygments_lexer": "ipython3",
   "version": "3.7.3-final"
  }
 },
 "nbformat": 4,
 "nbformat_minor": 2
}